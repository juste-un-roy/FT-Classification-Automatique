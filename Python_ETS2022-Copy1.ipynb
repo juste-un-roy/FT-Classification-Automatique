{
 "cells": [
  {
   "cell_type": "code",
   "execution_count": 1,
   "id": "78c56cda",
   "metadata": {},
   "outputs": [],
   "source": [
    "# Ceci est un algorithme dont la fonction est de classifier des articles de synthèse par type de synthèse."
   ]
  },
  {
   "cell_type": "code",
   "execution_count": 14,
   "id": "737a4833",
   "metadata": {},
   "outputs": [],
   "source": [
    "# Toujours exécuter cette ligne au début d'une séance d'utilisation.\n",
    "import re"
   ]
  },
  {
   "cell_type": "code",
   "execution_count": 25,
   "id": "8888a09e",
   "metadata": {},
   "outputs": [],
   "source": [
    "# Le string « txt » correspond au texte soumis à la classification. Les matchers désignent les regex recherchées."
   ]
  },
  {
   "cell_type": "code",
   "execution_count": 53,
   "id": "82411a99",
   "metadata": {},
   "outputs": [
    {
     "data": {
      "text/plain": [
       "'Brief review'"
      ]
     },
     "execution_count": 53,
     "metadata": {},
     "output_type": "execute_result"
    }
   ],
   "source": [
    "txt = \"Brief Literature review brief reviews brief reviews brief reviews\"\n",
    "\n",
    "def classify(txt):\n",
    "    prio_list = [\"Brief review\", \"Code review\", \"Review\"]\n",
    "    matchers = {\"Brief review\": \"[Bb]rief [Rr]eview\", \"Code review\": \"code_review\", \"Complete review\":\"[Cc]omplete [Rr]eview\", \"Comprehensive review\":\"[Cc]omprehensive [Rr]eview\", \"Critical review\":\"[Cc]ritical [Rr]eview\", \"Exhaustive review\":\"[Ee]xhaustive [Rr]eview\", \"General review\":\"[Gg]eneral [Rr]eview\", \"Integrated review\":\"[Ii]ntegrated [Rr]eview\", \"Literature review\":\"[Ll]iterature [Rr]eview\", \"Mapping review\":\"[Mm]apping [Rr]eview\", \"Meta analysis\":\"[Mm]eta [Aa]nalysis\", \"Mixed methods review\":\"[Mm]ixed [Mm]ethods [Rr]eview\", \"Model-oriented review\":\"[Mm]odel-oriented [Rr]eview\", \"Overview\":\"[Oo]verview\", \"Qualitative systematic review\":\"[Qq]ualitative [Ss]ystematic [Rr]eview\", \"Rapid review\":\"[Rr]apid [Rr]eview\", \"Review\":\"[Rr]eview\", \"[Ss]coping [Rr]eview\":\"[Ss]coping [Rr]eview\", \"State-of-the-art review\":\"[Ss]tate-of-the-art\", \"Systematic review\":\"[Ss]ystematic [Rr]eview\", \"Technical review\":\"[Tt]echnical [Rr]eview\", \"Topology review\":\"[Tt]opology [Rr]eview\", \"Umbrella review\":\"[Uu]mbrella [Rr]eview\", \"Evidence based software Engineering\":\"[Ee]vidence [Bb]ased [Ss]oftware [Ee]ngineering\"}\n",
    "    for category in prio_list:\n",
    "        if re.findall(matchers[category], txt):\n",
    "            return category\n",
    "    return \"Inconnu\"\n",
    "\n",
    "classify(txt)"
   ]
  },
  {
   "cell_type": "code",
   "execution_count": null,
   "id": "050b6393",
   "metadata": {},
   "outputs": [],
   "source": []
  }
 ],
 "metadata": {
  "kernelspec": {
   "display_name": "Python 3 (ipykernel)",
   "language": "python",
   "name": "python3"
  },
  "language_info": {
   "codemirror_mode": {
    "name": "ipython",
    "version": 3
   },
   "file_extension": ".py",
   "mimetype": "text/x-python",
   "name": "python",
   "nbconvert_exporter": "python",
   "pygments_lexer": "ipython3",
   "version": "3.9.12"
  }
 },
 "nbformat": 4,
 "nbformat_minor": 5
}
