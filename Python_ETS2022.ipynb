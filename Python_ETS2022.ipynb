{
 "cells": [
  {
   "cell_type": "code",
   "execution_count": 22,
   "id": "78c56cda",
   "metadata": {},
   "outputs": [],
   "source": [
    "# Ceci est un algorithme dont la fonction est de classifier des articles de synthèse par type de synthèse."
   ]
  },
  {
   "cell_type": "code",
   "execution_count": 23,
   "id": "737a4833",
   "metadata": {},
   "outputs": [],
   "source": [
    "# Toujours exécuter cette ligne au début d'une séance d'utilisation.\n",
    "import re"
   ]
  },
  {
   "cell_type": "code",
   "execution_count": 24,
   "id": "8888a09e",
   "metadata": {},
   "outputs": [],
   "source": [
    "# Le string « txt » correspond au texte soumis à la classification. Les catégories désignent les types de synthèse et les matchers, les regex recherchées."
   ]
  },
  {
   "cell_type": "code",
   "execution_count": 25,
   "id": "82411a99",
   "metadata": {
    "scrolled": true
   },
   "outputs": [
    {
     "name": "stdout",
     "output_type": "stream",
     "text": [
      "Brief review\n",
      "3\n",
      "Comprehensive review\n",
      "1\n",
      "Literature review\n",
      "1\n",
      "Review\n",
      "5\n"
     ]
    }
   ],
   "source": [
    "txt = \"Comprehensive review Brief Literature review brief reviews brief reviews brief reviews\"\n",
    "\n",
    "def classify(txt):\n",
    "    prio_list = [\"Brief review\", \"Code review\", \"Complete review\", \"Comprehensive review\", \"Critical review\", \"Exhaustive review\", \"General review\", \"Integrated review\", \"Literature review\", \"Mapping review\", \"Meta analysis\", \"Mixed methods review\", \"Model-oriented review\", \"Overview\", \"Qualitative systematic review\", \"Rapid review\", \"Review\", \"Scoping review\", \"State-of-the-art review\", \"Systematic review\", \"Technical review\", \"Topology review\", \"Umbrella review\", \"Evidence based software Engineering\"]\n",
    "    matchers = {\"Brief review\": \"[Bb]rief [Rr]eview\", \"Code review\": \"code_review\", \"Complete review\":\"[Cc]omplete [Rr]eview\", \"Comprehensive review\":\"[Cc]omprehensive [Rr]eview\", \"Critical review\":\"[Cc]ritical [Rr]eview\", \"Exhaustive review\":\"[Ee]xhaustive [Rr]eview\", \"General review\":\"[Gg]eneral [Rr]eview\", \"Integrated review\":\"[Ii]ntegrated [Rr]eview\", \"Literature review\":\"[Ll]iterature [Rr]eview\", \"Mapping review\":\"[Mm]apping [Rr]eview\", \"Meta analysis\":\"[Mm]eta [Aa]nalysis\", \"Mixed methods review\":\"[Mm]ixed [Mm]ethods [Rr]eview\", \"Model-oriented review\":\"[Mm]odel-oriented [Rr]eview\", \"Overview\":\"[Oo]verview\", \"Qualitative systematic review\":\"[Qq]ualitative [Ss]ystematic [Rr]eview\", \"Rapid review\":\"[Rr]apid [Rr]eview\", \"Review\":\"[Rr]eview\", \"Scoping review\":\"[Ss]coping [Rr]eview\", \"State-of-the-art review\":\"[Ss]tate-of-the-art\", \"Systematic review\":\"[Ss]ystematic [Rr]eview\", \"Technical review\":\"[Tt]echnical [Rr]eview\", \"Topology review\":\"[Tt]opology [Rr]eview\", \"Umbrella review\":\"[Uu]mbrella [Rr]eview\", \"Evidence based software Engineering\":\"[Ee]vidence [Bb]ased [Ss]oftware [Ee]ngineering\"}\n",
    "    for category in prio_list:\n",
    "        count = 0\n",
    "        for match in re.findall(matchers[category], txt):\n",
    "            count += 1\n",
    "        if re.findall(matchers[category], txt):\n",
    "            print (category)\n",
    "            print(count)\n",
    "\n",
    "classify(txt)"
   ]
  },
  {
   "cell_type": "code",
   "execution_count": 28,
   "id": "9bb6fd88",
   "metadata": {},
   "outputs": [
    {
     "name": "stdout",
     "output_type": "stream",
     "text": [
      "Line 1: Brief review, comprhensive review\n",
      "Line 2: Brief review Brief review Brief review\n",
      "Line 3: review brief review\n",
      "Line 4: Brief review\n",
      "Line 5: review brief review\n",
      "Line 6: systematic review systematic review systematic review\n",
      "Line 7: review brief review\n",
      "Line 8: comprhensive review comprhensive review comprhensive review comprhensive review comprhensive review\n"
     ]
    }
   ],
   "source": [
    "txt = 'C:/Users/bibref/Desktop/TEST_regex.txt'\n",
    "with open(txt) as fp:\n",
    "   line = fp.readline()\n",
    "   cnt = 1\n",
    "   while line:\n",
    "       print(\"Line {}: {}\".format(cnt, line.strip()))\n",
    "       line = fp.readline()\n",
    "       cnt += 1"
   ]
  },
  {
   "cell_type": "code",
   "execution_count": null,
   "id": "bed6af6c",
   "metadata": {},
   "outputs": [],
   "source": []
  }
 ],
 "metadata": {
  "kernelspec": {
   "display_name": "Python 3 (ipykernel)",
   "language": "python",
   "name": "python3"
  },
  "language_info": {
   "codemirror_mode": {
    "name": "ipython",
    "version": 3
   },
   "file_extension": ".py",
   "mimetype": "text/x-python",
   "name": "python",
   "nbconvert_exporter": "python",
   "pygments_lexer": "ipython3",
   "version": "3.9.12"
  }
 },
 "nbformat": 4,
 "nbformat_minor": 5
}
