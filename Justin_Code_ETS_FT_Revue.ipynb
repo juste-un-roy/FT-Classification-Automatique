{
 "cells": [
  {
   "cell_type": "code",
   "execution_count": 1,
   "id": "9dab6982",
   "metadata": {},
   "outputs": [
    {
     "ename": "StopIteration",
     "evalue": "",
     "output_type": "error",
     "traceback": [
      "\u001b[1;31m---------------------------------------------------------------------------\u001b[0m",
      "\u001b[1;31mStopIteration\u001b[0m                             Traceback (most recent call last)",
      "Input \u001b[1;32mIn [1]\u001b[0m, in \u001b[0;36m<cell line: 9>\u001b[1;34m()\u001b[0m\n\u001b[0;32m      7\u001b[0m a \u001b[38;5;241m=\u001b[39m \u001b[38;5;28mopen\u001b[39m (\u001b[38;5;124m'\u001b[39m\u001b[38;5;124mFT_total_merged(630).csv\u001b[39m\u001b[38;5;124m'\u001b[39m, \u001b[38;5;124m'\u001b[39m\u001b[38;5;124mr\u001b[39m\u001b[38;5;124m'\u001b[39m, encoding\u001b[38;5;241m=\u001b[39m\u001b[38;5;124m\"\u001b[39m\u001b[38;5;124mutf8\u001b[39m\u001b[38;5;124m\"\u001b[39m)\n\u001b[0;32m      8\u001b[0m csvfile \u001b[38;5;241m=\u001b[39m csv\u001b[38;5;241m.\u001b[39mreader(a)\n\u001b[1;32m----> 9\u001b[0m \u001b[38;5;28;43mnext\u001b[39;49m\u001b[43m \u001b[49m\u001b[43m(\u001b[49m\u001b[43ma\u001b[49m\u001b[43m)\u001b[49m\n\u001b[0;32m     11\u001b[0m prio_list \u001b[38;5;241m=\u001b[39m [\u001b[38;5;124m\"\u001b[39m\u001b[38;5;124mBrief review\u001b[39m\u001b[38;5;124m\"\u001b[39m, \u001b[38;5;124m\"\u001b[39m\u001b[38;5;124mCode review\u001b[39m\u001b[38;5;124m\"\u001b[39m, \u001b[38;5;124m\"\u001b[39m\u001b[38;5;124mComplete review\u001b[39m\u001b[38;5;124m\"\u001b[39m, \u001b[38;5;124m\"\u001b[39m\u001b[38;5;124mComprehensive review\u001b[39m\u001b[38;5;124m\"\u001b[39m, \u001b[38;5;124m\"\u001b[39m\u001b[38;5;124mCritical review\u001b[39m\u001b[38;5;124m\"\u001b[39m, \u001b[38;5;124m\"\u001b[39m\u001b[38;5;124mExhaustive review\u001b[39m\u001b[38;5;124m\"\u001b[39m, \u001b[38;5;124m\"\u001b[39m\u001b[38;5;124mGeneral review\u001b[39m\u001b[38;5;124m\"\u001b[39m, \u001b[38;5;124m\"\u001b[39m\u001b[38;5;124mIntegrated review\u001b[39m\u001b[38;5;124m\"\u001b[39m, \u001b[38;5;124m\"\u001b[39m\u001b[38;5;124mLiterature review\u001b[39m\u001b[38;5;124m\"\u001b[39m, \u001b[38;5;124m\"\u001b[39m\u001b[38;5;124mMapping review\u001b[39m\u001b[38;5;124m\"\u001b[39m, \u001b[38;5;124m\"\u001b[39m\u001b[38;5;124mMeta analysis\u001b[39m\u001b[38;5;124m\"\u001b[39m, \u001b[38;5;124m\"\u001b[39m\u001b[38;5;124mMixed methods review\u001b[39m\u001b[38;5;124m\"\u001b[39m, \u001b[38;5;124m\"\u001b[39m\u001b[38;5;124mModel-oriented review\u001b[39m\u001b[38;5;124m\"\u001b[39m, \u001b[38;5;124m\"\u001b[39m\u001b[38;5;124mOverview\u001b[39m\u001b[38;5;124m\"\u001b[39m, \u001b[38;5;124m\"\u001b[39m\u001b[38;5;124mQualitative systematic review\u001b[39m\u001b[38;5;124m\"\u001b[39m, \u001b[38;5;124m\"\u001b[39m\u001b[38;5;124mRapid review\u001b[39m\u001b[38;5;124m\"\u001b[39m, \u001b[38;5;124m\"\u001b[39m\u001b[38;5;124mScoping review\u001b[39m\u001b[38;5;124m\"\u001b[39m, \u001b[38;5;124m\"\u001b[39m\u001b[38;5;124mState-of-the-art review\u001b[39m\u001b[38;5;124m\"\u001b[39m, \u001b[38;5;124m\"\u001b[39m\u001b[38;5;124mSystematic review\u001b[39m\u001b[38;5;124m\"\u001b[39m, \u001b[38;5;124m\"\u001b[39m\u001b[38;5;124mTechnical review\u001b[39m\u001b[38;5;124m\"\u001b[39m, \u001b[38;5;124m\"\u001b[39m\u001b[38;5;124mTopology review\u001b[39m\u001b[38;5;124m\"\u001b[39m, \u001b[38;5;124m\"\u001b[39m\u001b[38;5;124mUmbrella review\u001b[39m\u001b[38;5;124m\"\u001b[39m, \u001b[38;5;124m\"\u001b[39m\u001b[38;5;124mEvidence based software Engineering\u001b[39m\u001b[38;5;124m\"\u001b[39m]\n\u001b[0;32m     12\u001b[0m matchers \u001b[38;5;241m=\u001b[39m {\u001b[38;5;124m\"\u001b[39m\u001b[38;5;124mBrief review\u001b[39m\u001b[38;5;124m\"\u001b[39m: \u001b[38;5;124m\"\u001b[39m\u001b[38;5;124m[Bb]rief [Rr]eview\u001b[39m\u001b[38;5;124m\"\u001b[39m, \u001b[38;5;124m\"\u001b[39m\u001b[38;5;124mCode review\u001b[39m\u001b[38;5;124m\"\u001b[39m: \u001b[38;5;124m\"\u001b[39m\u001b[38;5;124mcode_review\u001b[39m\u001b[38;5;124m\"\u001b[39m, \u001b[38;5;124m\"\u001b[39m\u001b[38;5;124mComplete review\u001b[39m\u001b[38;5;124m\"\u001b[39m:\u001b[38;5;124m\"\u001b[39m\u001b[38;5;124m[Cc]omplete [Rr]eview\u001b[39m\u001b[38;5;124m\"\u001b[39m, \u001b[38;5;124m\"\u001b[39m\u001b[38;5;124mComprehensive review\u001b[39m\u001b[38;5;124m\"\u001b[39m:\u001b[38;5;124m\"\u001b[39m\u001b[38;5;124m[Cc]omprehensive [Rr]eview\u001b[39m\u001b[38;5;124m\"\u001b[39m, \u001b[38;5;124m\"\u001b[39m\u001b[38;5;124mCritical review\u001b[39m\u001b[38;5;124m\"\u001b[39m:\u001b[38;5;124m\"\u001b[39m\u001b[38;5;124m[Cc]ritical [Rr]eview\u001b[39m\u001b[38;5;124m\"\u001b[39m, \u001b[38;5;124m\"\u001b[39m\u001b[38;5;124mExhaustive review\u001b[39m\u001b[38;5;124m\"\u001b[39m:\u001b[38;5;124m\"\u001b[39m\u001b[38;5;124m[Ee]xhaustive [Rr]eview\u001b[39m\u001b[38;5;124m\"\u001b[39m, \u001b[38;5;124m\"\u001b[39m\u001b[38;5;124mGeneral review\u001b[39m\u001b[38;5;124m\"\u001b[39m:\u001b[38;5;124m\"\u001b[39m\u001b[38;5;124m[Gg]eneral [Rr]eview\u001b[39m\u001b[38;5;124m\"\u001b[39m, \u001b[38;5;124m\"\u001b[39m\u001b[38;5;124mIntegrated review\u001b[39m\u001b[38;5;124m\"\u001b[39m:\u001b[38;5;124m\"\u001b[39m\u001b[38;5;124m[Ii]ntegrated [Rr]eview\u001b[39m\u001b[38;5;124m\"\u001b[39m, \u001b[38;5;124m\"\u001b[39m\u001b[38;5;124mLiterature review\u001b[39m\u001b[38;5;124m\"\u001b[39m:\u001b[38;5;124m\"\u001b[39m\u001b[38;5;124m[Ll]iterature [Rr]eview\u001b[39m\u001b[38;5;124m\"\u001b[39m, \u001b[38;5;124m\"\u001b[39m\u001b[38;5;124mMapping review\u001b[39m\u001b[38;5;124m\"\u001b[39m:\u001b[38;5;124m\"\u001b[39m\u001b[38;5;124m[Mm]apping [Rr]eview\u001b[39m\u001b[38;5;124m\"\u001b[39m, \u001b[38;5;124m\"\u001b[39m\u001b[38;5;124mMeta analysis\u001b[39m\u001b[38;5;124m\"\u001b[39m:\u001b[38;5;124m\"\u001b[39m\u001b[38;5;124m[Mm]eta [Aa]nalysis\u001b[39m\u001b[38;5;124m\"\u001b[39m, \u001b[38;5;124m\"\u001b[39m\u001b[38;5;124mMixed methods review\u001b[39m\u001b[38;5;124m\"\u001b[39m:\u001b[38;5;124m\"\u001b[39m\u001b[38;5;124m[Mm]ixed [Mm]ethods [Rr]eview\u001b[39m\u001b[38;5;124m\"\u001b[39m, \u001b[38;5;124m\"\u001b[39m\u001b[38;5;124mModel-oriented review\u001b[39m\u001b[38;5;124m\"\u001b[39m:\u001b[38;5;124m\"\u001b[39m\u001b[38;5;124m[Mm]odel-oriented [Rr]eview\u001b[39m\u001b[38;5;124m\"\u001b[39m, \u001b[38;5;124m\"\u001b[39m\u001b[38;5;124mOverview\u001b[39m\u001b[38;5;124m\"\u001b[39m:\u001b[38;5;124m\"\u001b[39m\u001b[38;5;124m[Oo]verview\u001b[39m\u001b[38;5;124m\"\u001b[39m, \u001b[38;5;124m\"\u001b[39m\u001b[38;5;124mQualitative systematic review\u001b[39m\u001b[38;5;124m\"\u001b[39m:\u001b[38;5;124m\"\u001b[39m\u001b[38;5;124m[Qq]ualitative [Ss]ystematic [Rr]eview\u001b[39m\u001b[38;5;124m\"\u001b[39m, \u001b[38;5;124m\"\u001b[39m\u001b[38;5;124mRapid review\u001b[39m\u001b[38;5;124m\"\u001b[39m:\u001b[38;5;124m\"\u001b[39m\u001b[38;5;124m[Rr]apid [Rr]eview\u001b[39m\u001b[38;5;124m\"\u001b[39m, \u001b[38;5;124m\"\u001b[39m\u001b[38;5;124mScoping review\u001b[39m\u001b[38;5;124m\"\u001b[39m:\u001b[38;5;124m\"\u001b[39m\u001b[38;5;124m[Ss]coping [Rr]eview\u001b[39m\u001b[38;5;124m\"\u001b[39m, \u001b[38;5;124m\"\u001b[39m\u001b[38;5;124mState-of-the-art review\u001b[39m\u001b[38;5;124m\"\u001b[39m:\u001b[38;5;124m\"\u001b[39m\u001b[38;5;124m[Ss]tate-of-the-art\u001b[39m\u001b[38;5;124m\"\u001b[39m, \u001b[38;5;124m\"\u001b[39m\u001b[38;5;124mSystematic review\u001b[39m\u001b[38;5;124m\"\u001b[39m:\u001b[38;5;124m\"\u001b[39m\u001b[38;5;124m[Ss]ystematic [Rr]eview\u001b[39m\u001b[38;5;124m\"\u001b[39m, \u001b[38;5;124m\"\u001b[39m\u001b[38;5;124mTechnical review\u001b[39m\u001b[38;5;124m\"\u001b[39m:\u001b[38;5;124m\"\u001b[39m\u001b[38;5;124m[Tt]echnical [Rr]eview\u001b[39m\u001b[38;5;124m\"\u001b[39m, \u001b[38;5;124m\"\u001b[39m\u001b[38;5;124mTopology review\u001b[39m\u001b[38;5;124m\"\u001b[39m:\u001b[38;5;124m\"\u001b[39m\u001b[38;5;124m[Tt]opology [Rr]eview\u001b[39m\u001b[38;5;124m\"\u001b[39m, \u001b[38;5;124m\"\u001b[39m\u001b[38;5;124mUmbrella review\u001b[39m\u001b[38;5;124m\"\u001b[39m:\u001b[38;5;124m\"\u001b[39m\u001b[38;5;124m[Uu]mbrella [Rr]eview\u001b[39m\u001b[38;5;124m\"\u001b[39m, \u001b[38;5;124m\"\u001b[39m\u001b[38;5;124mEvidence based software Engineering\u001b[39m\u001b[38;5;124m\"\u001b[39m:\u001b[38;5;124m\"\u001b[39m\u001b[38;5;124m[Ee]vidence [Bb]ased [Ss]oftware [Ee]ngineering\u001b[39m\u001b[38;5;124m\"\u001b[39m}\n",
      "\u001b[1;31mStopIteration\u001b[0m: "
     ]
    }
   ],
   "source": [
    "import re\n",
    "import csv\n",
    "\n",
    "f = open('data_test_output.csv', 'w', newline='', encoding=\"utf8\")\n",
    "writer = csv.writer(f)\n",
    "\n",
    "a = open ('FT_total_merged(630).csv', 'r', encoding=\"utf8\")\n",
    "csvfile = csv.reader(a)\n",
    "next (a)\n",
    "\n",
    "prio_list = [\"Brief review\", \"Code review\", \"Complete review\", \"Comprehensive review\", \"Critical review\", \"Exhaustive review\", \"General review\", \"Integrated review\", \"Literature review\", \"Mapping review\", \"Meta analysis\", \"Mixed methods review\", \"Model-oriented review\", \"Overview\", \"Qualitative systematic review\", \"Rapid review\", \"Scoping review\", \"State-of-the-art review\", \"Systematic review\", \"Technical review\", \"Topology review\", \"Umbrella review\", \"Evidence based software Engineering\"]\n",
    "matchers = {\"Brief review\": \"[Bb]rief [Rr]eview\", \"Code review\": \"code_review\", \"Complete review\":\"[Cc]omplete [Rr]eview\", \"Comprehensive review\":\"[Cc]omprehensive [Rr]eview\", \"Critical review\":\"[Cc]ritical [Rr]eview\", \"Exhaustive review\":\"[Ee]xhaustive [Rr]eview\", \"General review\":\"[Gg]eneral [Rr]eview\", \"Integrated review\":\"[Ii]ntegrated [Rr]eview\", \"Literature review\":\"[Ll]iterature [Rr]eview\", \"Mapping review\":\"[Mm]apping [Rr]eview\", \"Meta analysis\":\"[Mm]eta [Aa]nalysis\", \"Mixed methods review\":\"[Mm]ixed [Mm]ethods [Rr]eview\", \"Model-oriented review\":\"[Mm]odel-oriented [Rr]eview\", \"Overview\":\"[Oo]verview\", \"Qualitative systematic review\":\"[Qq]ualitative [Ss]ystematic [Rr]eview\", \"Rapid review\":\"[Rr]apid [Rr]eview\", \"Scoping review\":\"[Ss]coping [Rr]eview\", \"State-of-the-art review\":\"[Ss]tate-of-the-art\", \"Systematic review\":\"[Ss]ystematic [Rr]eview\", \"Technical review\":\"[Tt]echnical [Rr]eview\", \"Topology review\":\"[Tt]opology [Rr]eview\", \"Umbrella review\":\"[Uu]mbrella [Rr]eview\", \"Evidence based software Engineering\":\"[Ee]vidence [Bb]ased [Ss]oftware [Ee]ngineering\"}\n",
    "\n",
    "for line in csvfile :\n",
    "    line = '@'.join(str(x) for x in line)\n",
    "    count = 0\n",
    "    matchList = []\n",
    "    \n",
    "    for category in prio_list:\n",
    "        for match in re.findall(matchers[category], line):\n",
    "            count += 1\n",
    "        if re.findall(matchers[category], line):\n",
    "            matchList.append(match)\n",
    "            matchList.append(count)\n",
    "            \n",
    "    if not re.findall(matchers[category], line):\n",
    "        if 'review' in line.lower():\n",
    "            matchList.append(\"review match\")\n",
    "        \n",
    "    result = line[1:len(line)-1].split(\"@\")\n",
    "    result.append(matchList)\n",
    "    \n",
    "    writer.writerow(result)\n",
    "    print(result)\n",
    "                "
   ]
  }
 ],
 "metadata": {
  "kernelspec": {
   "display_name": "Python 3 (ipykernel)",
   "language": "python",
   "name": "python3"
  },
  "language_info": {
   "codemirror_mode": {
    "name": "ipython",
    "version": 3
   },
   "file_extension": ".py",
   "mimetype": "text/x-python",
   "name": "python",
   "nbconvert_exporter": "python",
   "pygments_lexer": "ipython3",
   "version": "3.9.12"
  }
 },
 "nbformat": 4,
 "nbformat_minor": 5
}
